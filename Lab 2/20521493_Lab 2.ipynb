{
  "cells": [
    {
      "cell_type": "markdown",
      "metadata": {
        "id": "474uGSl6mvLm"
      },
      "source": [
        "# Cài đặt"
      ]
    },
    {
      "cell_type": "code",
      "execution_count": null,
      "metadata": {
        "collapsed": true,
        "id": "r__fmusqNNuu"
      },
      "outputs": [],
      "source": [
        "import numpy as np"
      ]
    },
    {
      "cell_type": "code",
      "execution_count": null,
      "metadata": {
        "id": "cDw0uXxPNNuv"
      },
      "outputs": [],
      "source": [
        "def initialize_population( num_individuals, num_variables ):\n",
        "    pop = np.random.randint(2, size=(num_individuals, num_variables))\n",
        "    return pop"
      ]
    },
    {
      "cell_type": "code",
      "execution_count": null,
      "metadata": {
        "id": "sexPh34MNNuw"
      },
      "outputs": [],
      "source": [
        "def onemax( ind ):   \n",
        "    value = np.sum(ind)\n",
        "    return value"
      ]
    },
    {
      "cell_type": "code",
      "source": [
        "def trap_5(ind):\n",
        "  k=5\n",
        "  trap = 0\n",
        "  for i in range(0,len(ind),5):\n",
        "    value=np.sum(ind[i:i+5])\n",
        "    if (value < k):\n",
        "      value = k - 1 - value\n",
        "    trap+=value\n",
        "  return trap"
      ],
      "metadata": {
        "id": "uB9_YI1XpO4M"
      },
      "execution_count": null,
      "outputs": []
    },
    {
      "cell_type": "code",
      "execution_count": null,
      "metadata": {
        "id": "KYtI5HO2NNuy"
      },
      "outputs": [],
      "source": [
        "def UX( pop ):\n",
        "    num_individuals = len(pop)\n",
        "    num_parameters = len(pop[0])\n",
        "    indices = np.arange(num_individuals)\n",
        "    np.random.shuffle(indices)\n",
        "    offspring = []\n",
        "    \n",
        "    for i in range(0, num_individuals, 2):\n",
        "        idx1 = indices[i]\n",
        "        idx2 = indices[i+1]\n",
        "        offspring1 = list(pop[idx1])\n",
        "        offspring2 = list(pop[idx2])\n",
        "        for idx in range(0, num_parameters):\n",
        "            r = np.random.rand()\n",
        "            if r < 0.5:\n",
        "                temp = offspring2[idx] \n",
        "                offspring2[idx] = offspring1[idx]\n",
        "                offspring1[idx] = temp\n",
        "\n",
        "        offspring.append(offspring1)\n",
        "        offspring.append(offspring2)\n",
        "    offspring = np.array(offspring)\n",
        "    return offspring"
      ]
    },
    {
      "cell_type": "code",
      "execution_count": null,
      "metadata": {
        "id": "mmtVRdzDggNh"
      },
      "outputs": [],
      "source": [
        "def OneX( pop ):\n",
        "    num_individuals = len(pop)\n",
        "    num_parameters = len(pop[0])\n",
        "    indices = np.arange(num_individuals)\n",
        "    offspring = []\n",
        "    \n",
        "    for i in range(0, num_individuals, 2):\n",
        "      index= np.random.randint(0,num_parameters)\n",
        "      idx1 = indices[i]\n",
        "      idx2 = indices[i+1]\n",
        "      offspring1 = list(pop[idx1])\n",
        "      offspring2 = list(pop[idx2])\n",
        "        \n",
        "      temp = offspring2[index:] \n",
        "      offspring2[index:] = offspring1[index:]\n",
        "      offspring1[index:] = temp\n",
        "\n",
        "      offspring.append(offspring1)\n",
        "      offspring.append(offspring2)\n",
        "    offspring = np.array(offspring)\n",
        "    return offspring"
      ]
    },
    {
      "cell_type": "code",
      "execution_count": null,
      "metadata": {
        "collapsed": true,
        "id": "dlTkpJTYNNu3"
      },
      "outputs": [],
      "source": [
        "def tournament_selection(pop, pop_fitness,num_individuals):\n",
        "    selected_indices = []\n",
        "    size = 4\n",
        "    count = 0\n",
        "    while (True):\n",
        "      indices = np.arange(len(pop))\n",
        "      np.random.shuffle(indices)\n",
        "      for j in range(0,len(pop),4):\n",
        "        temp_table = indices[j:j+size]\n",
        "        selected_indice = np.argsort(pop_fitness[temp_table])\n",
        "        selected_indices.append(temp_table[selected_indice[-1]])\n",
        "        count+=1\n",
        "        if (count == num_individuals):\n",
        "          return selected_indices \n",
        "    \n",
        "    return selected_indices"
      ]
    },
    {
      "cell_type": "code",
      "execution_count": null,
      "metadata": {
        "id": "1_a_fzsTX5OA"
      },
      "outputs": [],
      "source": [
        "def POPOP(num_individuals, num_parameters,crossover, evaluation, var):\n",
        "    np.random.seed(var)\n",
        "    pop = initialize_population(num_individuals, num_parameters)\n",
        "    pop_fitness = np.array([evaluation(ind) for ind in pop])\n",
        "    pop_temp = pop\n",
        "    pop_temp_fitness = pop_fitness\n",
        "    count=len(pop)\n",
        "    while (True):\n",
        "        offspring = crossover(pop)\n",
        "        offspring_fitness = np.array([evaluation(ind) for ind in offspring])\n",
        "        count += len(offspring)\n",
        " \n",
        "        pop = np.vstack([pop, offspring])\n",
        "        pop_fitness = np.concatenate((pop_fitness, offspring_fitness))\n",
        "\n",
        "        selected_indices = tournament_selection( pop, pop_fitness,num_individuals)\n",
        "        selection_set = pop[selected_indices]\n",
        "        selection_fitness = pop_fitness[selected_indices]\n",
        "\n",
        "        flag1=(pop_temp==selection_set)\n",
        "        flag2=(pop_temp_fitness==selection_fitness)\n",
        "        pop = selection_set\n",
        "        pop_fitness = selection_fitness\n",
        "        if (len(flag1[flag1==False]) <2 and len(flag2[flag2==False]) < 2 ):\n",
        "          break\n",
        "        pop_temp=selection_set\n",
        "        pop_temp_fitness=selection_fitness  \n",
        "    if(len(pop_fitness[pop_fitness!=num_parameters])!=0):\n",
        "      check = False\n",
        "    else:\n",
        "      check = True\n",
        "    return check,count"
      ]
    },
    {
      "cell_type": "code",
      "source": [
        "def upper_bound(prob_size, crossover, evaluation, bisection):\n",
        "  n=4\n",
        "  temp=10*bisection\n",
        "  count=0\n",
        "  while (True):\n",
        "    if (n>8192):\n",
        "      return -1\n",
        "    success,temp=POPOP(n,prob_size,crossover, evaluation,20521493+temp)\n",
        "    if success:\n",
        "      for i in range (temp+1, temp+10):\n",
        "        success,temp=POPOP(n,prob_size,crossover, evaluation,20521493+i)\n",
        "        if success==False:\n",
        "            count = 0\n",
        "            n*=2\n",
        "            break\n",
        "        else:\n",
        "          count+=1\n",
        "        if count==9:\n",
        "          return n\n",
        "    else:\n",
        "      n*=2\n",
        "  return n"
      ],
      "metadata": {
        "id": "lfcPUFBSDSyt"
      },
      "execution_count": null,
      "outputs": []
    },
    {
      "cell_type": "code",
      "source": [
        "def MRPS(prob_size, crossover, evaluation, bisection):\n",
        "  n_upper=upper_bound(prob_size, crossover, evaluation, bisection)\n",
        "  if (n_upper==-1):\n",
        "    return -1,-1\n",
        "  else:\n",
        "    n_lower=n_upper//2\n",
        "    temp=10*bisection\n",
        "    count=0\n",
        "    while(n_upper-n_lower)/n_upper>0.1:\n",
        "      count = 0\n",
        "      n=(n_upper+n_lower)//2\n",
        "      evaluate= []\n",
        "      for i in range (temp, temp+10):\n",
        "        success,temp=POPOP(n,prob_size,crossover, evaluation,20521493+i)\n",
        "        if success:\n",
        "          evaluate.append(temp)\n",
        "          count+=1\n",
        "      if count==10:\n",
        "        n_upper = n\n",
        "      else:\n",
        "        n_lower= n\n",
        "      if (n_upper-n_lower)<=2:\n",
        "        break\n",
        "  evaluate=np.array(evaluate)\n",
        "  return n_upper,evaluate.mean()\n",
        "\n"
      ],
      "metadata": {
        "id": "L9QSFsUkxLrW"
      },
      "execution_count": null,
      "outputs": []
    },
    {
      "cell_type": "markdown",
      "source": [
        "# Thực nghiệm"
      ],
      "metadata": {
        "id": "SDqBe2LGqoPw"
      }
    },
    {
      "cell_type": "markdown",
      "source": [
        "## One max và 1X"
      ],
      "metadata": {
        "id": "1tfPlaXGqvAV"
      }
    },
    {
      "cell_type": "code",
      "source": [
        "onemax_1x=[]\n",
        "mrps_onemax_1x=[]\n",
        "index=[10,20,40,80,160]\n",
        "for i in range(len(index)):\n",
        "  for j in range(10):\n",
        "    n,mean=MRPS(index[i], OneX, onemax, j)\n",
        "    mrps_onemax_1x.append(n)\n",
        "    onemax_1x.append(mean)\n",
        "\n",
        "mrps_onemax_1x=np.array(mrps_onemax_1x)\n",
        "onemax_1x=np.array(onemax_1x)"
      ],
      "metadata": {
        "id": "N9lmYFuJJJ2D"
      },
      "execution_count": null,
      "outputs": []
    },
    {
      "cell_type": "markdown",
      "source": [
        "## One max và UX"
      ],
      "metadata": {
        "id": "Xs18ls0xuL6Y"
      }
    },
    {
      "cell_type": "code",
      "source": [
        "onemax_ux=[]\n",
        "mrps_onemax_ux=[]\n",
        "index=[10,20,40,80,160]\n",
        "for i in range(len(index)):\n",
        "  for j in range(10):\n",
        "    n,mean=MRPS(index[i], UX, onemax, j)\n",
        "    mrps_onemax_ux.append(n)\n",
        "    onemax_ux.append(mean)\n",
        "\n",
        "mrps_onemax_ux=np.array(mrps_onemax_ux)\n",
        "onemax_ux=np.array(onemax_ux)"
      ],
      "metadata": {
        "id": "F0bID4x3uLmT"
      },
      "execution_count": null,
      "outputs": []
    },
    {
      "cell_type": "markdown",
      "source": [
        "## Trap_5 với 1X"
      ],
      "metadata": {
        "id": "Ze-sD9mVviM6"
      }
    },
    {
      "cell_type": "code",
      "source": [
        "trap5_1x=[]\n",
        "mrps_trap5_1x=[]\n",
        "index=[10,20,40,80,160]\n",
        "for i in range(len(index)):\n",
        "  for j in range(10):\n",
        "    n,mean=MRPS(index[i], OneX, trap_5, j)\n",
        "    mrps_trap5_1x.append(n)\n",
        "    trap5_1x.append(mean)\n",
        "\n",
        "mrps_trap5_1x=np.array(mrps_trap5_1x)\n",
        "trap5_1x=np.array(trap5_1x)"
      ],
      "metadata": {
        "id": "lR6qqk0ku0vj"
      },
      "execution_count": null,
      "outputs": []
    },
    {
      "cell_type": "markdown",
      "source": [
        "##Trap_5 với UX"
      ],
      "metadata": {
        "id": "6isjlxdMwsfN"
      }
    },
    {
      "cell_type": "code",
      "source": [
        "trap5_ux=[]\n",
        "mrps_trap5_ux=[]\n",
        "index=[10,20,40,80,160]\n",
        "for i in range(len(index)):\n",
        "  for j in range(10):\n",
        "    n,mean=MRPS(index[i], UX, trap_5, j)\n",
        "    mrps_trap5_ux.append(n)\n",
        "    trap5_ux.append(mean)\n",
        "\n",
        "mrps_trap5_ux=np.array(mrps_trap5_ux)\n",
        "trap5_ux=np.array(trap5_ux)"
      ],
      "metadata": {
        "id": "v89iUuAhwbHU"
      },
      "execution_count": null,
      "outputs": []
    },
    {
      "cell_type": "markdown",
      "source": [
        "## Kết quả thực nghiệm\n"
      ],
      "metadata": {
        "id": "sbNauyU0P-90"
      }
    },
    {
      "cell_type": "code",
      "source": [
        "print(\"One max và 1X\")\n",
        "print(mrps_onemax_1x)\n",
        "print(onemax_1x)\n",
        "\n",
        "print(\"One max và UX\")\n",
        "print(mrps_onemax_ux)\n",
        "print(onemax_ux)\n",
        "\n",
        "print(\"Trap_5 với 1X\")\n",
        "print(mrps_trap5_1x)\n",
        "print(trap5_1x)\n",
        "\n",
        "print(\"Trap_5 với UX\")\n",
        "print(mrps_trap5_ux)\n",
        "print(trap5_ux)"
      ],
      "metadata": {
        "colab": {
          "base_uri": "https://localhost:8080/"
        },
        "id": "bIWUyQw5QC81",
        "outputId": "0d02a62a-78b7-4af7-9122-3b42abf95c04"
      },
      "execution_count": null,
      "outputs": [
        {
          "output_type": "stream",
          "name": "stdout",
          "text": [
            "One max và 1X\n",
            "[  24   20   26   24   30   28   28   28   28   30   64   64   68   64\n",
            "   64   64   64   68   64  104  128  128  192  176  192  208  208  208\n",
            "  192  128  640  832  768  896  640  832  960  832  640  640 3840 3328\n",
            " 3840 3328 2816 3072 3072 3072 3840 2816]\n",
            "[   193.11111111    168.            239.2           191.71428571\n",
            "    252.            237.25          237.25          237.25\n",
            "    231.11111111    252.            735.            733.33333333\n",
            "    822.8           733.33333333    735.            735.\n",
            "    733.33333333    822.8           780.           1279.2\n",
            "   2460.           2460.           3168.           3220.8\n",
            "   3168.           3931.2          3931.2          3744.\n",
            "   3168.           2640.          16576.          22464.\n",
            "  19633.77777778  22648.88888889  16272.          22796.8\n",
            "  25440.          22464.          16576.          16576.\n",
            " 150528.         132121.6        150528.         133120.\n",
            " 110950.4        114048.         113891.55555556 114048.\n",
            " 150144.         111232.        ]\n",
            "One max và UX\n",
            "[ 24  24  18  18  20  18  24  24  24  18  52  34  34  34  34  34  34  34\n",
            "  34  34  60  56  60  48  60  56  60  60  48  60  96  72  96  72 104  72\n",
            "  96  96 104  72 176 160 176 160 176 176 176 160 208 176]\n",
            "[ 168.66666667  168.66666667  136.8         136.8         140.\n",
            "  136.8         168.66666667  168.66666667  168.66666667  138.6\n",
            "  561.6         374.          374.          374.          374.\n",
            "  374.          370.6         374.          374.          374.\n",
            "  900.          825.5         900.          664.88888889  900.\n",
            "  825.5         900.          900.          684.44444444  912.\n",
            " 1885.71428571 1530.         1885.71428571 1530.         2236.\n",
            " 1530.         1885.71428571 1885.71428571 2236.         1530.\n",
            " 5174.4        4392.         5174.4        4392.         5174.4\n",
            " 5174.4        5174.4        4392.         6136.         5174.4       ]\n",
            "Trap_5 với 1X\n",
            "[  96  104  104  104   96  104   96  104  104   96  192  256  256  192\n",
            "  256  256  240  256  208  256  768  704  768  832  832  896  896  704\n",
            "  704  768 3840 2560 3328 2560 3072 2560 3328 3328 3840 2560   -1   -1\n",
            "   -1   -1   -1   -1   -1   -1   -1   -1]\n",
            "[ 8.36000000e+02  1.00880000e+03  9.88000000e+02  1.00880000e+03\n",
            "  8.36000000e+02  1.00880000e+03  8.36000000e+02  9.88000000e+02\n",
            "  1.00880000e+03  8.50666667e+02  2.56177778e+03  3.22666667e+03\n",
            "  3.45000000e+03  2.61485714e+03  3.45000000e+03  3.29142857e+03\n",
            "  3.14400000e+03  3.29142857e+03  2.87040000e+03  3.45000000e+03\n",
            "  1.39235556e+04  1.39392000e+04  1.40800000e+04  1.72224000e+04\n",
            "  1.72224000e+04  1.60853333e+04  1.58080000e+04  1.39392000e+04\n",
            "  1.39392000e+04  1.40800000e+04  1.07904000e+05  6.71040000e+04\n",
            "  9.48480000e+04  6.80960000e+04  8.44800000e+04  6.80960000e+04\n",
            "  9.65120000e+04  9.65120000e+04  1.07904000e+05  6.71040000e+04\n",
            " -1.00000000e+00 -1.00000000e+00 -1.00000000e+00 -1.00000000e+00\n",
            " -1.00000000e+00 -1.00000000e+00 -1.00000000e+00 -1.00000000e+00\n",
            " -1.00000000e+00 -1.00000000e+00]\n",
            "Trap_5 với UX\n",
            "[ 256  384  384  288  288  416  480  384  416  416 4352 2816 5632 4096\n",
            " 4352 4352 2560 6656 2816 3328   -1   -1   -1   -1   -1   -1   -1   -1\n",
            "   -1   -1   -1   -1   -1   -1   -1   -1   -1   -1   -1   -1   -1   -1\n",
            "   -1   -1   -1   -1   -1   -1   -1   -1]\n",
            "[ 2.77333333e+03  3.78400000e+03  4.14577778e+03  3.41511111e+03\n",
            "  3.41511111e+03  5.32480000e+03  5.37600000e+03  3.78400000e+03\n",
            "  4.82560000e+03  5.32480000e+03  1.04448000e+05  7.04000000e+04\n",
            "  1.26156800e+05  9.51466667e+04  1.04448000e+05  1.04448000e+05\n",
            "  5.61600000e+04  1.54419200e+05  6.33600000e+04  7.68768000e+04\n",
            " -1.00000000e+00 -1.00000000e+00 -1.00000000e+00 -1.00000000e+00\n",
            " -1.00000000e+00 -1.00000000e+00 -1.00000000e+00 -1.00000000e+00\n",
            " -1.00000000e+00 -1.00000000e+00 -1.00000000e+00 -1.00000000e+00\n",
            " -1.00000000e+00 -1.00000000e+00 -1.00000000e+00 -1.00000000e+00\n",
            " -1.00000000e+00 -1.00000000e+00 -1.00000000e+00 -1.00000000e+00\n",
            " -1.00000000e+00 -1.00000000e+00 -1.00000000e+00 -1.00000000e+00\n",
            " -1.00000000e+00 -1.00000000e+00 -1.00000000e+00 -1.00000000e+00\n",
            " -1.00000000e+00 -1.00000000e+00]\n"
          ]
        }
      ]
    },
    {
      "cell_type": "markdown",
      "source": [
        "# Đồ thị và bảng kết quả\n"
      ],
      "metadata": {
        "id": "rKDBVIWPWAZB"
      }
    },
    {
      "cell_type": "code",
      "source": [
        "import numpy as np  \n",
        "import pandas as pd\n",
        "import seaborn as sns\n",
        "%matplotlib inline\n",
        "from matplotlib import pyplot as plt\n",
        "from matplotlib import style\n",
        "from scipy.stats import ttest_ind_from_stats"
      ],
      "metadata": {
        "id": "QZQQjvD2WCrM"
      },
      "execution_count": null,
      "outputs": []
    },
    {
      "cell_type": "code",
      "source": [
        "def handle(temp1,temp2):\n",
        "  a_mean=[]\n",
        "  b_mean=[]\n",
        "  a_std=[]\n",
        "  b_std=[]\n",
        "  for i in range(0,50,10):\n",
        "    a_mean.append(round(temp1[i:i+10].mean(),2))\n",
        "    a_std.append(round(temp1[i:i+10].std(),2))\n",
        "\n",
        "    b_mean.append(round(temp2[i:i+10].mean(),2))\n",
        "    b_std.append(round(temp2[i:i+10].std(),2))\n",
        "  a_mean=np.array(a_mean)\n",
        "  b_mean=np.array(b_mean)\n",
        "  a_std=np.array(a_std)\n",
        "  b_std=np.array(b_std)\n",
        "  return a_mean,b_mean,a_std,b_std"
      ],
      "metadata": {
        "id": "_Y2xs3duEkTH"
      },
      "execution_count": null,
      "outputs": []
    },
    {
      "cell_type": "markdown",
      "source": [
        "## Đồ thị 1"
      ],
      "metadata": {
        "id": "Z1qXsfDrEXe8"
      }
    },
    {
      "cell_type": "code",
      "source": [
        "temp1=np.array([24,20,26,24,30,28,28,28,28,30,64,64,68,64\n",
        ",64,64,64,68,64,104,128,128,192,176,192,208,208,208\n",
        ",192,128,640,832,768,896,640,832,960,832,640,640,3840,3328\n",
        ",3840,3328,2816,3072,3072,3072,3840,2816])\n",
        "temp2=np.array([24,24,18,18,20,18,24,24,24,18,52,34,34,34,34,34,34,34\n",
        ",34,34,60,56,60,48,60,56,60,60,48,60,96,72,96,72,104,72\n",
        ",96,96,104,72,176,160,176,160,176,176,176,160,208,176])\n",
        "prob_size=[10, 20, 40, 80, 160]\n",
        "onemax_mrps_onex_mean, onemax_mrps_ux_mean, onemax_mrps_onex_std, onemax_mrps_ux_std = handle(temp1,temp2)"
      ],
      "metadata": {
        "id": "vc8TjYaZdspN"
      },
      "execution_count": null,
      "outputs": []
    },
    {
      "cell_type": "code",
      "source": [
        "plt.errorbar(prob_size,onemax_mrps_onex_mean, yerr = onemax_mrps_onex_std, linestyle='dashed', label='1X')\n",
        "plt.errorbar(prob_size,onemax_mrps_ux_mean, yerr = onemax_mrps_ux_std, color='r',label='UX')\n",
        "plt.ylabel(\"MRPS\")\n",
        "plt.xlabel(\"prob_size\")\n",
        "plt.yscale('log', basey=2)\n",
        "plt.xscale('log', basex=2)\n",
        "plt.xticks(prob_size,labels=['10','20','40','80','160'])\n",
        "plt.legend()\n",
        "plt.title(\"One max\");"
      ],
      "metadata": {
        "colab": {
          "base_uri": "https://localhost:8080/",
          "height": 296
        },
        "id": "_a--F7MMa6e0",
        "outputId": "17afe635-c575-462e-9eba-258f8a904baa"
      },
      "execution_count": null,
      "outputs": [
        {
          "output_type": "display_data",
          "data": {
            "text/plain": [
              "<Figure size 432x288 with 1 Axes>"
            ],
            "image/png": "[encoded data removed]"
          },
          "metadata": {
            "needs_background": "light"
          }
        }
      ]
    },
    {
      "cell_type": "markdown",
      "source": [
        "## Đồ thị 2"
      ],
      "metadata": {
        "id": "GHGgvY90F6Ez"
      }
    },
    {
      "cell_type": "code",
      "source": [
        "temp1=np.array([193.11111111,168.,239.2,191.71428571\n",
        ",252.,237.25,237.25,237.25\n",
        ",231.11111111,252.,735.,733.33333333\n",
        ",822.8,733.33333333,735.,735.\n",
        ",733.33333333,822.8,780.,1279.2\n",
        ",2460.,2460.,3168.,3220.8\n",
        ",3168.,3931.2,3931.2,3744.\n",
        ",3168.,2640.,16576.,22464.\n",
        ",19633.77777778,22648.88888889,16272.,22796.8\n",
        ",25440.,22464.,16576.,16576.\n",
        ",150528.,132121.6,150528.,133120.\n",
        ",110950.4,114048.,113891.55555556,114048.\n",
        ",150144.,111232.,])\n",
        "temp2=np.array([ 168.66666667,168.66666667,136.8, 136.8, 140.\n",
        ",136.8, 168.66666667,168.66666667,168.66666667,138.6\n",
        ",561.6, 374.,374.,374.,374.\n",
        ",374.,370.6, 374.,374.,374.\n",
        ",900.,825.5, 900.,664.88888889,900.\n",
        ",825.5, 900.,900.,684.44444444,912.,\n",
        " 1885.71428571, 1530., 1885.71428571, 1530., 2236.,\n",
        " 1530., 1885.71428571, 1885.71428571, 2236., 1530.,\n",
        " 5174.4, 4392., 5174.4, 4392., 5174.4,\n",
        " 5174.4,5174.4,4392., 6136., 5174.4, ])\n",
        "onemax_evaluations_onex_mean, onemax_evaluations_ux_mean, onemax_evaluations_onex_std, onemax_evaluations_ux_std = handle(temp1,temp2)"
      ],
      "metadata": {
        "id": "XsmywrUfEazf"
      },
      "execution_count": null,
      "outputs": []
    },
    {
      "cell_type": "code",
      "source": [
        "plt.errorbar(prob_size,onemax_evaluations_onex_mean, yerr = onemax_evaluations_onex_std, linestyle='dashed', label='1X')\n",
        "plt.errorbar(prob_size,onemax_evaluations_ux_mean, yerr = onemax_evaluations_ux_std, color='r',label='UX')\n",
        "plt.ylabel(\"number_of_evaluations\")\n",
        "plt.xlabel(\"prob_size\")\n",
        "plt.yscale('log', basey=2)\n",
        "plt.xscale('log', basex=2)\n",
        "plt.xticks(prob_size,labels=['10','20','40','80','160'])\n",
        "#plt.set_xticklabels(['10','20','40','80','160'])\n",
        "plt.legend()\n",
        "plt.title(\"One max\");"
      ],
      "metadata": {
        "colab": {
          "base_uri": "https://localhost:8080/",
          "height": 296
        },
        "id": "2uiXnTRxF8r9",
        "outputId": "2770dab8-85cb-4f99-bf9d-e1e7adb4c2cb"
      },
      "execution_count": null,
      "outputs": [
        {
          "output_type": "display_data",
          "data": {
            "text/plain": [
              "<Figure size 432x288 with 1 Axes>"
            ],
            "image/png": "[encoded data removed]"
          },
          "metadata": {
            "needs_background": "light"
          }
        }
      ]
    },
    {
      "cell_type": "markdown",
      "source": [
        "## Bảng kết quả 1"
      ],
      "metadata": {
        "id": "A3kGC9krmeZ4"
      }
    },
    {
      "cell_type": "code",
      "source": [
        "data = {'MRPS_onemax_1X': onemax_mrps_onex_mean,'Evaluations_onemax_1X': onemax_evaluations_onex_mean,\n",
        "        'MRPS_onemax_UX': onemax_mrps_ux_mean,'Evaluations_onemax_UX': onemax_evaluations_ux_mean}\n",
        "  \n",
        "df_onemax = pd.DataFrame(data,prob_size)\n",
        "df_onemax['MRPS_onemax_1X'] = df_onemax['MRPS_onemax_1X'].astype(str) + '(' + onemax_mrps_onex_std.astype(str) + ')'\n",
        "df_onemax['Evaluations_onemax_1X'] = df_onemax['Evaluations_onemax_1X'].astype(str) + '(' + onemax_evaluations_onex_std.astype(str) + ')'\n",
        "df_onemax['MRPS_onemax_UX'] = df_onemax['MRPS_onemax_UX'].astype(str) + '(' + onemax_mrps_ux_std.astype(str) + ')'\n",
        "df_onemax['Evaluations_onemax_UX'] = df_onemax['Evaluations_onemax_UX'].astype(str) + '(' + onemax_evaluations_ux_std.astype(str) + ')'\n",
        "\n",
        "t_test_onemax_MRPS,p_value_onemax_MRPS =ttest_ind_from_stats(onemax_mrps_onex_mean,onemax_mrps_onex_std,5,onemax_mrps_ux_mean,onemax_mrps_ux_std,5)\n",
        "t_test_onemax_evaluations,p_value_onemax_evaluations=ttest_ind_from_stats(onemax_evaluations_onex_mean,onemax_evaluations_onex_std,5,onemax_evaluations_ux_mean,onemax_evaluations_ux_std,5)\n",
        "print(\"t_test_onemax_MRPS : \",t_test_onemax_MRPS)\n",
        "print(\"p_value_onemax_MRPS :\",p_value_onemax_MRPS)\n",
        "print(\"t_test_onemax_evaluations : \",t_test_onemax_evaluations)\n",
        "print(\"p_value_onemax_evaluations :\",p_value_onemax_evaluations)"
      ],
      "metadata": {
        "id": "YkPHTvfpmzCd",
        "colab": {
          "base_uri": "https://localhost:8080/"
        },
        "outputId": "4ef6f328-56dd-4216-9637-ff93138989ca"
      },
      "execution_count": null,
      "outputs": [
        {
          "output_type": "stream",
          "name": "stdout",
          "text": [
            "t_test_onemax_MRPS :  [ 2.92851811  5.67037764  8.04781156 13.19095764 18.04416231]\n",
            "p_value_onemax_MRPS : [1.90412925e-02 4.70194240e-04 4.18337517e-05 1.03920635e-06\n",
            " 9.13199478e-08]\n",
            "t_test_onemax_evaluations :  [ 5.0221669   5.51806319  9.82597879 12.57404921 16.70660267]\n",
            "p_value_onemax_evaluations : [1.02410755e-03 5.61660796e-04 9.67541560e-06 1.50041745e-06\n",
            " 1.66694012e-07]\n",
            "836.0\n"
          ]
        }
      ]
    },
    {
      "cell_type": "code",
      "source": [
        "def high_light_onemax(table):\n",
        "  df = table.copy()\n",
        "  df.loc[:,:] = 'background-color: gray'\n",
        "  for i in p_value_onemax_evaluations:\n",
        "    if (i < 0.05):\n",
        "      for j in range(len(onemax_evaluations_onex_mean)):\n",
        "        if (onemax_evaluations_onex_mean[j] <onemax_evaluations_ux_mean[j]):\n",
        "          df['Evaluations_onemax_1X'].iloc[j] = 'background-color: blue'\n",
        "        else:\n",
        "          df['Evaluations_onemax_UX'].iloc[j] = 'background-color: blue'\n",
        "  for i in p_value_onemax_MRPS:\n",
        "    if (i < 0.05):\n",
        "      for j in range(len(onemax_mrps_onex_mean)):\n",
        "        if (onemax_mrps_onex_mean[j] <onemax_mrps_ux_mean[j]):\n",
        "          df['MRPS_onemax_1X'].iloc[j] = 'background-color: blue'\n",
        "        else:\n",
        "          df['MRPS_onemax_UX'].iloc[j] = 'background-color: blue'\n",
        "  return df"
      ],
      "metadata": {
        "id": "yhlwlNzo5vQe"
      },
      "execution_count": null,
      "outputs": []
    },
    {
      "cell_type": "code",
      "source": [
        "df_onemax = df_onemax.style.apply(high_light_onemax, axis=None)\n",
        "df_onemax"
      ],
      "metadata": {
        "colab": {
          "base_uri": "https://localhost:8080/",
          "height": 206
        },
        "id": "uwTwtntG-ilg",
        "outputId": "4326bb91-ad54-4641-fe91-e5e0147f92bd"
      },
      "execution_count": null,
      "outputs": [
        {
          "output_type": "execute_result",
          "data": {
            "text/plain": [
              "<pandas.io.formats.style.Styler at 0x7f4a501211d0>"
            ],
            "text/html": [
              "<style type=\"text/css\">\n",
              "#T_42ed4_row0_col0, #T_42ed4_row0_col1, #T_42ed4_row1_col0, #T_42ed4_row1_col1, #T_42ed4_row2_col0, #T_42ed4_row2_col1, #T_42ed4_row3_col0, #T_42ed4_row3_col1, #T_42ed4_row4_col0, #T_42ed4_row4_col1 {\n",
              "  background-color: gray;\n",
              "}\n",
              "#T_42ed4_row0_col2, #T_42ed4_row0_col3, #T_42ed4_row1_col2, #T_42ed4_row1_col3, #T_42ed4_row2_col2, #T_42ed4_row2_col3, #T_42ed4_row3_col2, #T_42ed4_row3_col3, #T_42ed4_row4_col2, #T_42ed4_row4_col3 {\n",
              "  background-color: blue;\n",
              "}\n",
              "</style>\n",
              "<table id=\"T_42ed4_\" class=\"dataframe\">\n",
              "  <thead>\n",
              "    <tr>\n",
              "      <th class=\"blank level0\" >&nbsp;</th>\n",
              "      <th class=\"col_heading level0 col0\" >MRPS_onemax_1X</th>\n",
              "      <th class=\"col_heading level0 col1\" >Evaluations_onemax_1X</th>\n",
              "      <th class=\"col_heading level0 col2\" >MRPS_onemax_UX</th>\n",
              "      <th class=\"col_heading level0 col3\" >Evaluations_onemax_UX</th>\n",
              "    </tr>\n",
              "  </thead>\n",
              "  <tbody>\n",
              "    <tr>\n",
              "      <th id=\"T_42ed4_level0_row0\" class=\"row_heading level0 row0\" >10</th>\n",
              "      <td id=\"T_42ed4_row0_col0\" class=\"data row0 col0\" >26.6(2.97)</td>\n",
              "      <td id=\"T_42ed4_row0_col1\" class=\"data row0 col1\" >223.89(27.4)</td>\n",
              "      <td id=\"T_42ed4_row0_col2\" class=\"data row0 col2\" >21.2(2.86)</td>\n",
              "      <td id=\"T_42ed4_row0_col3\" class=\"data row0 col3\" >153.23(15.46)</td>\n",
              "    </tr>\n",
              "    <tr>\n",
              "      <th id=\"T_42ed4_level0_row1\" class=\"row_heading level0 row1\" >20</th>\n",
              "      <td id=\"T_42ed4_row1_col0\" class=\"data row1 col0\" >68.8(11.84)</td>\n",
              "      <td id=\"T_42ed4_row1_col1\" class=\"data row1 col1\" >810.98(159.96)</td>\n",
              "      <td id=\"T_42ed4_row1_col2\" class=\"data row1 col2\" >35.8(5.4)</td>\n",
              "      <td id=\"T_42ed4_row1_col3\" class=\"data row1 col3\" >392.42(56.4)</td>\n",
              "    </tr>\n",
              "    <tr>\n",
              "      <th id=\"T_42ed4_level0_row2\" class=\"row_heading level0 row2\" >40</th>\n",
              "      <td id=\"T_42ed4_row2_col0\" class=\"data row2 col0\" >176.0(32.79)</td>\n",
              "      <td id=\"T_42ed4_row2_col1\" class=\"data row2 col1\" >3189.12(526.91)</td>\n",
              "      <td id=\"T_42ed4_row2_col2\" class=\"data row2 col2\" >56.8(4.66)</td>\n",
              "      <td id=\"T_42ed4_row2_col3\" class=\"data row2 col3\" >841.23(88.57)</td>\n",
              "    </tr>\n",
              "    <tr>\n",
              "      <th id=\"T_42ed4_level0_row3\" class=\"row_heading level0 row3\" >80</th>\n",
              "      <td id=\"T_42ed4_row3_col0\" class=\"data row3 col0\" >768.0(114.49)</td>\n",
              "      <td id=\"T_42ed4_row3_col1\" class=\"data row3 col1\" >20144.75(3249.14)</td>\n",
              "      <td id=\"T_42ed4_row3_col2\" class=\"data row3 col2\" >88.0(13.39)</td>\n",
              "      <td id=\"T_42ed4_row3_col3\" class=\"data row3 col3\" >1813.49(264.45)</td>\n",
              "    </tr>\n",
              "    <tr>\n",
              "      <th id=\"T_42ed4_level0_row4\" class=\"row_heading level0 row4\" >160</th>\n",
              "      <td id=\"T_42ed4_row4_col0\" class=\"data row4 col0\" >3302.4(387.4)</td>\n",
              "      <td id=\"T_42ed4_row4_col1\" class=\"data row4 col1\" >128061.16(16458.32)</td>\n",
              "      <td id=\"T_42ed4_row4_col2\" class=\"data row4 col2\" >174.4(13.29)</td>\n",
              "      <td id=\"T_42ed4_row4_col3\" class=\"data row4 col3\" >5035.84(506.87)</td>\n",
              "    </tr>\n",
              "  </tbody>\n",
              "</table>\n"
            ]
          },
          "metadata": {},
          "execution_count": 11
        }
      ]
    },
    {
      "cell_type": "markdown",
      "source": [
        "## Đồ thị 3"
      ],
      "metadata": {
        "id": "Vf46vVC7e956"
      }
    },
    {
      "cell_type": "code",
      "source": [
        "temp1=np.array([96,104,104,104, 96,104, 96,104,104, 96,192,256,256,192\n",
        ",256,256,240,256,208,256,768,704,768,832,832,896,896,704\n",
        ",704,768, 3840, 2560 ,3328, 2560, 3072, 2560, 3328, 3328, 3840, 2560, -1, -1\n",
        ", -1, -1, -1, -1, -1, -1, -1, -1])\n",
        "temp2=np.array([256,384,384,288,288,416,480,384,416,416,4352,2816,5632,4096\n",
        ",4352,4352,2560,6656,2816,3328,-1,-1,-1,-1,-1,-1,-1,-1\n",
        ",-1,-1,-1,-1,-1,-1,-1,-1,-1,-1,-1,-1,-1,-1\n",
        ",-1,-1,-1,-1,-1,-1,-1,-1])\n",
        "\n",
        "trap5_mrps_onex_mean, trap5_mrps_ux_mean, trap5_mrps_onex_std, trap5_mrps_ux_std = handle(temp1,temp2)\n"
      ],
      "metadata": {
        "id": "4jMdohL0fBqR"
      },
      "execution_count": null,
      "outputs": []
    },
    {
      "cell_type": "code",
      "source": [
        "plt.errorbar(prob_size[:4],trap5_mrps_onex_mean[:4], yerr = trap5_mrps_onex_std[:4], linestyle='dashed', label='1X')\n",
        "plt.errorbar(prob_size[:2],trap5_mrps_ux_mean[:2], yerr = trap5_mrps_ux_std[:2], color='r',label='UX')\n",
        "plt.ylabel(\"MRPS\")\n",
        "plt.xlabel(\"prob_size\")\n",
        "plt.yscale('log', basey=2)\n",
        "plt.xscale('log', basex=2)\n",
        "plt.xticks(prob_size,labels=['10','20','40','80','160'])\n",
        "plt.legend()\n",
        "plt.title(\"Trap 5\");"
      ],
      "metadata": {
        "colab": {
          "base_uri": "https://localhost:8080/",
          "height": 296
        },
        "id": "0roBreOYhu8_",
        "outputId": "887ae489-c625-44c7-ae41-7ad5f36a3929"
      },
      "execution_count": null,
      "outputs": [
        {
          "output_type": "display_data",
          "data": {
            "text/plain": [
              "<Figure size 432x288 with 1 Axes>"
            ],
            "image/png": "[encoded data removed]"
          },
          "metadata": {
            "needs_background": "light"
          }
        }
      ]
    },
    {
      "cell_type": "markdown",
      "source": [
        "## Đồ thị 4"
      ],
      "metadata": {
        "id": "uCpVEvaLYPpt"
      }
    },
    {
      "cell_type": "code",
      "source": [
        "temp1=np.array([8.36000000e+02,1.00880000e+03,9.88000000e+02,1.00880000e+03\n",
        ",8.36000000e+02,1.00880000e+03,8.36000000e+02,9.88000000e+02\n",
        ",1.00880000e+03,8.50666667e+02,2.56177778e+03,3.22666667e+03\n",
        ",3.45000000e+03,2.61485714e+03,3.45000000e+03,3.29142857e+03\n",
        ",3.14400000e+03,3.29142857e+03,2.87040000e+03,3.45000000e+03\n",
        ",1.39235556e+04,1.39392000e+04,1.40800000e+04,1.72224000e+04\n",
        ",1.72224000e+04,1.60853333e+04,1.58080000e+04,1.39392000e+04\n",
        ",1.39392000e+04,1.40800000e+04,1.07904000e+05,6.71040000e+04\n",
        ",9.48480000e+04,6.80960000e+04,8.44800000e+04,6.80960000e+04\n",
        ",9.65120000e+04,9.65120000e+04,1.07904000e+05,6.71040000e+04\n",
        ",-1.00000000e+00,-1.00000000e+00,-1.00000000e+00,-1.00000000e+00\n",
        ",-1.00000000e+00,-1.00000000e+00,-1.00000000e+00,-1.00000000e+00\n",
        ",-1.00000000e+00,-1.00000000e+00])\n",
        "temp2=np.array([2.77333333e+03,3.78400000e+03,4.14577778e+03,3.41511111e+03\n",
        ",3.41511111e+03,5.32480000e+03,5.37600000e+03,3.78400000e+03\n",
        ",4.82560000e+03,5.32480000e+03,1.04448000e+05,7.04000000e+04\n",
        ",1.26156800e+05,9.51466667e+04,1.04448000e+05,1.04448000e+05\n",
        ",5.61600000e+04,1.54419200e+05,6.33600000e+04,7.68768000e+04\n",
        ",-1.00000000e+00,-1.00000000e+00,-1.00000000e+00,-1.00000000e+00\n",
        ",-1.00000000e+00,-1.00000000e+00,-1.00000000e+00,-1.00000000e+00\n",
        ",-1.00000000e+00,-1.00000000e+00,-1.00000000e+00,-1.00000000e+00\n",
        ",-1.00000000e+00,-1.00000000e+00,-1.00000000e+00,-1.00000000e+00\n",
        ",-1.00000000e+00,-1.00000000e+00,-1.00000000e+00,-1.00000000e+00\n",
        ",-1.00000000e+00,-1.00000000e+00,-1.00000000e+00,-1.00000000e+00\n",
        ",-1.00000000e+00,-1.00000000e+00,-1.00000000e+00,-1.00000000e+00\n",
        ",-1.00000000e+00,-1.00000000e+00])\n",
        "trap5_evaluations_onex_mean, trap5_evaluations_ux_mean, trap5_evaluations_onex_std, trap5_evaluations_ux_std = handle(temp1,temp2)"
      ],
      "metadata": {
        "id": "PABYFz6fYSbK"
      },
      "execution_count": null,
      "outputs": []
    },
    {
      "cell_type": "code",
      "source": [
        "plt.errorbar(prob_size[:4],trap5_evaluations_onex_mean[:4], yerr = trap5_evaluations_onex_std[:4], linestyle='dashed', label='1X')\n",
        "plt.errorbar(prob_size[:2],trap5_evaluations_ux_mean[:2], yerr = trap5_evaluations_ux_std[:2], color='r',label='UX')\n",
        "plt.ylabel(\"number_of_evaluations\")\n",
        "plt.xlabel(\"prob_size\")\n",
        "plt.yscale('log', basey=2)\n",
        "plt.xscale('log', basex=2)\n",
        "plt.xticks(prob_size,labels=['10','20','40','80','160'])\n",
        "plt.legend()\n",
        "plt.title(\"Trap 5\");"
      ],
      "metadata": {
        "colab": {
          "base_uri": "https://localhost:8080/",
          "height": 296
        },
        "id": "3XQ8gnY5hpRr",
        "outputId": "fbe05ab1-a76b-4e4b-9998-c78f623f03f7"
      },
      "execution_count": null,
      "outputs": [
        {
          "output_type": "display_data",
          "data": {
            "text/plain": [
              "<Figure size 432x288 with 1 Axes>"
            ],
            "image/png": "[encoded data removed]"
          },
          "metadata": {
            "needs_background": "light"
          }
        }
      ]
    },
    {
      "cell_type": "markdown",
      "source": [
        "## Bảng kết quả 2"
      ],
      "metadata": {
        "id": "pVb9dNzeNVmz"
      }
    },
    {
      "cell_type": "code",
      "source": [
        "data = {'MRPS_trap_1X': pd.Series(trap5_mrps_onex_mean[:4], index = prob_size[:4]), 'Evaluations_trap_1X': pd.Series(trap5_evaluations_onex_mean[:4], index = prob_size[:4]), \n",
        "        'MRPS_trap_UX': pd.Series(trap5_mrps_ux_mean[:2], index = prob_size[:2]), 'Evaluations_trap_UX': pd.Series(trap5_evaluations_ux_mean[:2], index = prob_size[:2])}\n",
        "table_trap = pd.DataFrame(data,index=prob_size)\n",
        "table_trap['MRPS_trap_1X'] = table_trap['MRPS_trap_1X'][:4].astype(str) + '(' + trap5_mrps_onex_std[:4].astype(str) + ')'\n",
        "table_trap['Evaluations_trap_1X'] = table_trap['Evaluations_trap_1X'][:4].astype(str) + '(' + trap5_evaluations_onex_std[:4].astype(str) + ')'\n",
        "table_trap['MRPS_trap_UX'] = table_trap['MRPS_trap_UX'][:2].astype(str) + '(' + trap5_mrps_ux_std[:2].astype(str) + ')'\n",
        "table_trap['Evaluations_trap_UX'] = table_trap['Evaluations_trap_UX'][:2].astype(str) + '(' + trap5_evaluations_onex_std[:2].astype(str) + ')'\n",
        "t_test_trap5_MRPS,p_value_trap5_MRPS=ttest_ind_from_stats(trap5_mrps_onex_mean[:2],trap5_mrps_onex_std[:2],4,trap5_mrps_ux_mean[:2],trap5_mrps_ux_std[:2],2)\n",
        "t_test_trap5_evaluations,p_value_trap5_evaluations=ttest_ind_from_stats(trap5_evaluations_onex_mean[:2],trap5_evaluations_onex_std[:2],4,trap5_evaluations_ux_mean[:2],trap5_evaluations_ux_std[:2],2)\n",
        "print(\"t_test_trap5_MRPS : \",t_test_trap5_MRPS)\n",
        "print(\"p_value_trap5_MRPS :\",p_value_trap5_MRPS)\n",
        "print(\"t_test_trap5_evaluations : \",t_test_trap5_evaluations)\n",
        "print(\"p_value_trap5_evaluations :\",p_value_trap5_evaluations)"
      ],
      "metadata": {
        "id": "l9S4Ac2ANYGO",
        "colab": {
          "base_uri": "https://localhost:8080/"
        },
        "outputId": "3025b4b1-a6ba-4563-e49b-4a45ddd18682"
      },
      "execution_count": null,
      "outputs": [
        {
          "output_type": "stream",
          "name": "stdout",
          "text": [
            "t_test_trap5_MRPS :  [-9.21430031 -7.19200241]\n",
            "p_value_trap5_MRPS : [0.00077081 0.0019804 ]\n",
            "t_test_trap5_evaluations :  [-8.41096214 -7.45050447]\n",
            "p_value_trap5_evaluations : [0.00109373 0.00173369]\n"
          ]
        }
      ]
    },
    {
      "cell_type": "code",
      "source": [
        "def high_light_trap(table):\n",
        "  df = table.copy()\n",
        "  df.loc[:,:] = 'background-color: gray'\n",
        "  for i in (p_value_trap5_evaluations):\n",
        "    if (i < 0.05):\n",
        "      for j in range(2):\n",
        "        if (trap5_evaluations_onex_mean[j] < trap5_evaluations_ux_mean[j]):\n",
        "          df['Evaluations_trap_1X'].iloc[j] = 'background-color: blue'\n",
        "        else:\n",
        "          df['Evaluations_trap_UX'].iloc[j] = 'background-color: blue'\n",
        "  for i in (p_value_trap5_MRPS):\n",
        "    if (i < 0.05):\n",
        "      for j in range(2):     \n",
        "        if (trap5_mrps_onex_mean[j] < trap5_mrps_ux_mean[j]):\n",
        "          df['MRPS_trap_1X'].iloc[j] = 'background-color: blue'\n",
        "        else:\n",
        "          df['MRPS_trap_UX'].iloc[j] = 'background-color: blue'\n",
        "  return df"
      ],
      "metadata": {
        "id": "sFI3f0rf_2lY"
      },
      "execution_count": null,
      "outputs": []
    },
    {
      "cell_type": "code",
      "source": [
        "table_trap = table_trap.style.apply(high_light_trap, axis=None)\n",
        "table_trap"
      ],
      "metadata": {
        "colab": {
          "base_uri": "https://localhost:8080/",
          "height": 206
        },
        "id": "TqbVn7SnAa7O",
        "outputId": "bc33ec86-9f17-4a2a-8b2f-5aa053eb5341"
      },
      "execution_count": null,
      "outputs": [
        {
          "output_type": "execute_result",
          "data": {
            "text/plain": [
              "<pandas.io.formats.style.Styler at 0x7f4a4f08b1d0>"
            ],
            "text/html": [
              "<style type=\"text/css\">\n",
              "#T_f46c1_row0_col0, #T_f46c1_row0_col1, #T_f46c1_row1_col0, #T_f46c1_row1_col1 {\n",
              "  background-color: blue;\n",
              "}\n",
              "#T_f46c1_row0_col2, #T_f46c1_row0_col3, #T_f46c1_row1_col2, #T_f46c1_row1_col3, #T_f46c1_row2_col0, #T_f46c1_row2_col1, #T_f46c1_row2_col2, #T_f46c1_row2_col3, #T_f46c1_row3_col0, #T_f46c1_row3_col1, #T_f46c1_row3_col2, #T_f46c1_row3_col3, #T_f46c1_row4_col0, #T_f46c1_row4_col1, #T_f46c1_row4_col2, #T_f46c1_row4_col3 {\n",
              "  background-color: gray;\n",
              "}\n",
              "</style>\n",
              "<table id=\"T_f46c1_\" class=\"dataframe\">\n",
              "  <thead>\n",
              "    <tr>\n",
              "      <th class=\"blank level0\" >&nbsp;</th>\n",
              "      <th class=\"col_heading level0 col0\" >MRPS_trap_1X</th>\n",
              "      <th class=\"col_heading level0 col1\" >Evaluations_trap_1X</th>\n",
              "      <th class=\"col_heading level0 col2\" >MRPS_trap_UX</th>\n",
              "      <th class=\"col_heading level0 col3\" >Evaluations_trap_UX</th>\n",
              "    </tr>\n",
              "  </thead>\n",
              "  <tbody>\n",
              "    <tr>\n",
              "      <th id=\"T_f46c1_level0_row0\" class=\"row_heading level0 row0\" >10</th>\n",
              "      <td id=\"T_f46c1_row0_col0\" class=\"data row0 col0\" >100.8(3.92)</td>\n",
              "      <td id=\"T_f46c1_row0_col1\" class=\"data row0 col1\" >936.99(79.92)</td>\n",
              "      <td id=\"T_f46c1_row0_col2\" class=\"data row0 col2\" >371.2(67.43)</td>\n",
              "      <td id=\"T_f46c1_row0_col3\" class=\"data row0 col3\" >4216.85(79.92)</td>\n",
              "    </tr>\n",
              "    <tr>\n",
              "      <th id=\"T_f46c1_level0_row1\" class=\"row_heading level0 row1\" >20</th>\n",
              "      <td id=\"T_f46c1_row1_col0\" class=\"data row1 col0\" >236.8(26.58)</td>\n",
              "      <td id=\"T_f46c1_row1_col1\" class=\"data row1 col1\" >3135.06(320.04)</td>\n",
              "      <td id=\"T_f46c1_row1_col2\" class=\"data row1 col2\" >4096.0(1238.36)</td>\n",
              "      <td id=\"T_f46c1_row1_col3\" class=\"data row1 col3\" >95586.35(320.04)</td>\n",
              "    </tr>\n",
              "    <tr>\n",
              "      <th id=\"T_f46c1_level0_row2\" class=\"row_heading level0 row2\" >40</th>\n",
              "      <td id=\"T_f46c1_row2_col0\" class=\"data row2 col0\" >787.2(70.4)</td>\n",
              "      <td id=\"T_f46c1_row2_col1\" class=\"data row2 col1\" >15023.93(1339.05)</td>\n",
              "      <td id=\"T_f46c1_row2_col2\" class=\"data row2 col2\" >nan</td>\n",
              "      <td id=\"T_f46c1_row2_col3\" class=\"data row2 col3\" >nan</td>\n",
              "    </tr>\n",
              "    <tr>\n",
              "      <th id=\"T_f46c1_level0_row3\" class=\"row_heading level0 row3\" >80</th>\n",
              "      <td id=\"T_f46c1_row3_col0\" class=\"data row3 col0\" >3097.6(491.76)</td>\n",
              "      <td id=\"T_f46c1_row3_col1\" class=\"data row3 col1\" >85856.0(16174.64)</td>\n",
              "      <td id=\"T_f46c1_row3_col2\" class=\"data row3 col2\" >nan</td>\n",
              "      <td id=\"T_f46c1_row3_col3\" class=\"data row3 col3\" >nan</td>\n",
              "    </tr>\n",
              "    <tr>\n",
              "      <th id=\"T_f46c1_level0_row4\" class=\"row_heading level0 row4\" >160</th>\n",
              "      <td id=\"T_f46c1_row4_col0\" class=\"data row4 col0\" >nan</td>\n",
              "      <td id=\"T_f46c1_row4_col1\" class=\"data row4 col1\" >nan</td>\n",
              "      <td id=\"T_f46c1_row4_col2\" class=\"data row4 col2\" >nan</td>\n",
              "      <td id=\"T_f46c1_row4_col3\" class=\"data row4 col3\" >nan</td>\n",
              "    </tr>\n",
              "  </tbody>\n",
              "</table>\n"
            ]
          },
          "metadata": {},
          "execution_count": 19
        }
      ]
    },
    {
      "cell_type": "markdown",
      "source": [
        "# Nhận xét"
      ],
      "metadata": {
        "id": "5AWJI1rNZoc9"
      }
    },
    {
      "cell_type": "markdown",
      "source": [
        "1. Đối với hàm onemax, khi sử dụng phương pháp lại đồng nhất (UX) sẽ cho ra kết \n",
        "quả tốt hơn phương pháp lai 1 điểm (1X) về cả thời gian thực thi lẫn num_individuals ít hơn. Cả 2 phương pháp lai đều giải được hết các prob_size yêu cầu. \n",
        "2. Đối với hàm trap, kết quả thể hiện lại ngược lại so với onemax. Trap function hoạt động tốt hơn đối với phép lai 1X. Tuy nhiên phép lai 1X với trap chỉ giải được 4 prob_size là (10, 20, 40 , 80) trong khi với phép lai UX chỉ xử lý được các prob_size (10, 20).\n",
        "3. \tVề thời gian thực thi giữa onemax và trap thì hầu hết các trường hợp prob_size khác nhau và sử dụng các phép lai khác nhau thì onemax đều có thời gian nhanh hơn trap.\n",
        "4. Kết luận: onemax dùng tốt hơn khi sử dùng phép lai UX còn trap sẽ hoạt động tốt hơn khi kết hợp với phép lai 1X.\n"
      ],
      "metadata": {
        "id": "1Dy7DDdEv0Xs"
      }
    }
  ],
  "metadata": {
    "anaconda-cloud": {},
    "colab": {
      "collapsed_sections": [
        "474uGSl6mvLm",
        "SDqBe2LGqoPw"
      ],
      "provenance": []
    },
    "kernelspec": {
      "display_name": "Python 3",
      "name": "python3"
    },
    "language_info": {
      "name": "python"
    }
  },
  "nbformat": 4,
  "nbformat_minor": 0
}