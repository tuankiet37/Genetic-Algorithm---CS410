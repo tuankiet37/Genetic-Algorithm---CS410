{
  "cells": [
    {
      "cell_type": "code",
      "execution_count": 1,
      "metadata": {
        "collapsed": true,
        "id": "r__fmusqNNuu"
      },
      "outputs": [],
      "source": [
        "import numpy as np"
      ]
    },
    {
      "cell_type": "code",
      "execution_count": 2,
      "metadata": {
        "id": "cDw0uXxPNNuv"
      },
      "outputs": [],
      "source": [
        "def initialize_population( num_individuals, num_variables ):\n",
        "    \"\"\"\n",
        "    Khởi tạo quần thể gồm num_individuals cá thể. Mỗi cá thể có num_parameters biến.\n",
        "    \n",
        "    Arguments:\n",
        "    num_individuals -- Số lượng cá thể\n",
        "    num_variables -- Số lượng biến\n",
        "    \n",
        "    Returns:\n",
        "    pop -- Ma trận (num_individuals, num_variables ) chứa quần thể mới được khởi tạo ngẫu nhiên.\n",
        "    \"\"\"\n",
        "    \n",
        "    ### BẮT ĐẦU CODE TỪ ĐÂY ### \n",
        "    pop = np.random.randint(2, size=(num_individuals, num_variables))\n",
        "    \n",
        "    ### DỪNG CODE TẠI ĐÂY ###\n",
        "    \n",
        "    return pop"
      ]
    },
    {
      "cell_type": "code",
      "execution_count": 3,
      "metadata": {
        "colab": {
          "base_uri": "https://localhost:8080/"
        },
        "id": "B2mFFli0fUCH",
        "outputId": "6482daa6-a967-4d71-a38c-bca83a91f00c"
      },
      "outputs": [
        {
          "output_type": "stream",
          "name": "stdout",
          "text": [
            "[[0 1 0 0]\n",
            " [0 1 0 0]\n",
            " [0 1 0 0]\n",
            " [0 0 1 0]\n",
            " [1 1 1 0]\n",
            " [1 0 1 1]\n",
            " [1 1 1 1]\n",
            " [1 1 0 0]]\n"
          ]
        }
      ],
      "source": [
        "np.random.seed(42)\n",
        "pop = initialize_population(8,4)\n",
        "print(pop)"
      ]
    },
    {
      "cell_type": "code",
      "execution_count": 4,
      "metadata": {
        "id": "sexPh34MNNuw"
      },
      "outputs": [],
      "source": [
        "def onemax( ind ):\n",
        "    \"\"\"\n",
        "    Hàm đánh giá OneMax: Đếm số bit 1 trong chuỗi nhị phân (cá thể ind).\n",
        "    \n",
        "    Arguments:\n",
        "    ind -- Cá thể cần được đánh giá.\n",
        "\n",
        "    Returns:\n",
        "    value -- Giá trị của cá thể ind.\n",
        "    \"\"\"\n",
        "    \n",
        "    ### BẮT ĐẦU CODE TỪ ĐÂY ###     \n",
        "    value = np.sum(ind)\n",
        "    \n",
        "    ### DỪNG CODE TẠI ĐÂY ###\n",
        "    \n",
        "    return value"
      ]
    },
    {
      "cell_type": "code",
      "execution_count": 5,
      "metadata": {
        "colab": {
          "base_uri": "https://localhost:8080/"
        },
        "id": "m-wgJivufTUG",
        "outputId": "cdde5496-1fd4-42ac-d7e2-ac246a87fdf9"
      },
      "outputs": [
        {
          "output_type": "execute_result",
          "data": {
            "text/plain": [
              "3"
            ]
          },
          "metadata": {},
          "execution_count": 5
        }
      ],
      "source": [
        "onemax(pop[5,:])"
      ]
    },
    {
      "cell_type": "code",
      "execution_count": 6,
      "metadata": {
        "id": "RWOJbcSCn3mz"
      },
      "outputs": [],
      "source": [
        "def truncation_selection(pop, pop_fitness, selection_size):\n",
        "    selected_indices = np.argsort(pop_fitness)[-selection_size:]\n",
        "    return selected_indices"
      ]
    },
    {
      "cell_type": "code",
      "execution_count": 7,
      "metadata": {
        "id": "KYtI5HO2NNuy"
      },
      "outputs": [],
      "source": [
        "def crossover( pop ):\n",
        "    \"\"\"\n",
        "    Hàm biến đổi tạo ra các cá thể con.\n",
        "    \n",
        "    Arguments:\n",
        "    pop -- Quàn thể hiện tại.\n",
        "\n",
        "    Returns:\n",
        "    offspring -- Quần thể chứa các cá thể con được sinh ra.\n",
        "    \"\"\"  \n",
        "    \n",
        "    ### BẮT ĐẦU CODE TỪ ĐÂY ### \n",
        "    num_individuals = len(pop)\n",
        "    num_parameters = len(pop[0])\n",
        "    indices = np.arange(num_individuals)\n",
        "    # Đảo ngẫu nhiên thứ tự các cá thể trong quần thể\n",
        "    np.random.shuffle(indices)\n",
        "    offspring = []\n",
        "    \n",
        "    for i in range(0, num_individuals, 2):\n",
        "        idx1 = indices[i]\n",
        "        idx2 = indices[i+1]\n",
        "        offspring1 = list(pop[idx1])\n",
        "        offspring2 = list(pop[idx2])\n",
        "        \n",
        "        # Cài đặt phép lai đồng nhất uniform crossover. \n",
        "        # Không cần cài đặt đột biến mutation.\n",
        "        for idx in range(0, num_parameters):\n",
        "            r = np.random.rand()\n",
        "            if r < 0.5:\n",
        "                temp = offspring2[idx] \n",
        "                offspring2[idx] = offspring1[idx]\n",
        "                offspring1[idx] = temp\n",
        "\n",
        "        offspring.append(offspring1)\n",
        "        offspring.append(offspring2)\n",
        "\n",
        "\n",
        "    ### DỪNG CODE TẠI ĐÂY ###\n",
        "    \n",
        "    offspring = np.array(offspring)\n",
        "    return offspring"
      ]
    },
    {
      "cell_type": "code",
      "execution_count": 8,
      "metadata": {
        "id": "YPG8Ayu_yzwC"
      },
      "outputs": [],
      "source": [
        "def mutation(pop, mutation_prob):\n",
        "    num_individuals = len(pop)\n",
        "    num_parameters = len(pop[0])\n",
        "    for i in range(0, num_individuals):\n",
        "        for j in range(0, num_parameters):\n",
        "            r = np.random.rand()\n",
        "            if r < mutation_prob:\n",
        "                if pop[i][j] == 0:\n",
        "                    pop[i][j] = 1\n",
        "                else:\n",
        "                    pop[i][j] = 0\n",
        "    \n",
        "    return pop"
      ]
    },
    {
      "cell_type": "code",
      "execution_count": 9,
      "metadata": {
        "id": "s-tug82wvrIV"
      },
      "outputs": [],
      "source": [
        "def genetic_algorithm(num_individuals, num_parameters, num_generations):\n",
        "    pop = initialize_population(num_individuals, num_parameters)\n",
        "    pop_fitness = np.array([onemax(ind) for ind in pop])\n",
        "    print(\"#Gen 0:\")\n",
        "    print(pop_fitness)\n",
        "\n",
        "    selection_size = num_individuals // 2\n",
        "\n",
        "    for i in range(num_generations):\n",
        "        selected_indices = truncation_selection( pop, pop_fitness, selection_size )\n",
        "        selection_set = pop[selected_indices]\n",
        "        selection_fitness = pop_fitness[selected_indices]\n",
        "\n",
        "        offspring = crossover(selection_set)\n",
        "        offspring = mutation(offspring, 0.1)\n",
        "        offspring_fitness = np.array([onemax(ind) for ind in offspring])\n",
        "\n",
        "        pop = np.vstack([selection_set, offspring])\n",
        "        pop_fitness = np.concatenate((selection_fitness, offspring_fitness))\n",
        "\n",
        "        print(f'#Gen {i+1}:')\n",
        "        print(pop_fitness)\n",
        "    \n",
        "    print('#Final result:')\n",
        "    print(pop)\n",
        "    print(pop_fitness)\n"
      ]
    },
    {
      "cell_type": "code",
      "execution_count": 10,
      "metadata": {
        "id": "_M6RxNZxxw8u"
      },
      "outputs": [],
      "source": [
        "num_parameters = 10\n",
        "num_individuals = 16\n",
        "num_generations = 10\n",
        "np.random.seed(20521493)\n",
        "#genetic_algorithm(num_individuals, num_parameters, num_generations)"
      ]
    },
    {
      "cell_type": "markdown",
      "metadata": {
        "id": "474uGSl6mvLm"
      },
      "source": [
        "# Cài đặt"
      ]
    },
    {
      "cell_type": "code",
      "execution_count": 11,
      "metadata": {
        "collapsed": true,
        "id": "dlTkpJTYNNu3"
      },
      "outputs": [],
      "source": [
        "def tournament_selection(pop, pop_fitness,num_individuals):\n",
        "    selected_indices = []\n",
        "    size = 4\n",
        "    count = 0\n",
        "    while (True):\n",
        "      indices = np.arange(len(pop))\n",
        "      np.random.shuffle(indices)\n",
        "      for j in range(0,len(pop),size):\n",
        "        temp_table = indices[j:j+size]\n",
        "        selected_indice = np.argsort(pop_fitness[temp_table])\n",
        "        selected_indices.append(temp_table[selected_indice[-1]])\n",
        "        count+=1\n",
        "        if (count == num_individuals):\n",
        "          return selected_indices \n",
        "    \n",
        "    return selected_indices"
      ]
    },
    {
      "cell_type": "code",
      "execution_count": 12,
      "metadata": {
        "id": "1_a_fzsTX5OA"
      },
      "outputs": [],
      "source": [
        "def POPOP(num_individuals, num_parameters, num_generations):\n",
        "    pop = initialize_population(num_individuals, num_parameters)\n",
        "    pop_fitness = np.array([onemax(ind) for ind in pop])\n",
        "    print(\"#Gen 0:\")\n",
        "    print(pop_fitness)\n",
        "    \n",
        "    for i in range(num_generations):\n",
        "        #variation\n",
        "        offspring = crossover(pop)\n",
        "        offspring_fitness = np.array([onemax(ind) for ind in offspring])\n",
        "\n",
        "        #P+O Pool\n",
        "        pool = np.vstack([pop, offspring])\n",
        "        pool_fitness = np.concatenate((pop_fitness, offspring_fitness))\n",
        "\n",
        "        #Tournament Selection\n",
        "        selected_indices = tournament_selection( pool, pool_fitness,num_individuals)\n",
        "        selection_set = pool[selected_indices]\n",
        "        selection_fitness = pool_fitness[selected_indices]\n",
        "\n",
        "        pop = selection_set\n",
        "        pop_fitness = selection_fitness\n",
        "\n",
        "        ''' print(f'#Gen {i+1}:')\n",
        "        print(f\"{pop_fitness}\") '''\n",
        "    \n",
        "    print('#Final result:')\n",
        "    print(pop)\n",
        "    print(pop_fitness)\n"
      ]
    },
    {
      "cell_type": "markdown",
      "metadata": {
        "id": "HfcsDa2BmF6K"
      },
      "source": [
        "# num_parameters = 8"
      ]
    },
    {
      "cell_type": "code",
      "execution_count": 13,
      "metadata": {
        "colab": {
          "base_uri": "https://localhost:8080/"
        },
        "id": "1LDr6ro_p6Vu",
        "outputId": "55c10201-2228-40c6-eda8-fe6ab043dfd8"
      },
      "outputs": [
        {
          "output_type": "stream",
          "name": "stdout",
          "text": [
            "#Gen 0:\n",
            "[5 3 4 3 1 5 6 5 3 5 4 3]\n",
            "#Final result:\n",
            "[[1 1 1 1 1 1 1 1]\n",
            " [1 1 1 1 1 1 1 1]\n",
            " [1 1 1 1 1 1 1 1]\n",
            " [1 1 1 1 1 1 1 1]\n",
            " [1 1 1 1 1 1 1 1]\n",
            " [1 1 1 1 1 1 1 1]\n",
            " [1 1 1 1 1 1 1 1]\n",
            " [1 1 1 1 1 1 1 1]\n",
            " [1 1 1 1 1 1 1 1]\n",
            " [1 1 1 1 1 1 1 1]\n",
            " [1 1 1 1 1 1 1 1]\n",
            " [1 1 1 1 1 1 1 1]]\n",
            "[8 8 8 8 8 8 8 8 8 8 8 8]\n"
          ]
        }
      ],
      "source": [
        "num_parameters = 8\n",
        "num_individuals = 12\n",
        "num_generations = 10\n",
        "np.random.seed(20521493)\n",
        "POPOP(num_individuals, num_parameters, num_generations)"
      ]
    },
    {
      "cell_type": "markdown",
      "metadata": {
        "id": "enWKwIKEmLcN"
      },
      "source": [
        "# num_parameters = 16"
      ]
    },
    {
      "cell_type": "code",
      "execution_count": 14,
      "metadata": {
        "colab": {
          "base_uri": "https://localhost:8080/"
        },
        "id": "_JU95yCN1E0y",
        "outputId": "87112346-7637-46d0-c5ce-c412609e13d2"
      },
      "outputs": [
        {
          "output_type": "stream",
          "name": "stdout",
          "text": [
            "#Gen 0:\n",
            "[ 8  7  6 11  8  7 11 10  9 10  6  4  6  9  9  4  8  9  8  7  6  6  3  8]\n",
            "#Final result:\n",
            "[[1 1 1 1 1 1 1 1 1 1 1 1 1 1 1 1]\n",
            " [1 1 1 1 1 1 1 1 1 1 1 1 1 1 1 1]\n",
            " [1 1 1 1 1 1 1 1 1 1 1 1 1 1 1 1]\n",
            " [1 1 1 1 1 1 1 1 1 1 1 1 1 1 1 1]\n",
            " [1 1 1 1 1 1 1 1 1 1 1 1 1 1 1 1]\n",
            " [1 1 1 1 1 1 1 1 1 1 1 1 1 1 1 1]\n",
            " [1 1 1 1 1 1 1 1 1 1 1 1 1 1 1 1]\n",
            " [1 1 1 1 1 1 1 1 1 1 1 1 1 1 1 1]\n",
            " [1 1 1 1 1 1 1 1 1 1 1 1 1 1 1 1]\n",
            " [1 1 1 1 1 1 1 1 1 1 1 1 1 1 1 1]\n",
            " [1 1 1 1 1 1 1 1 1 1 1 1 1 1 1 1]\n",
            " [1 1 1 1 1 1 1 1 1 1 1 1 1 1 1 1]\n",
            " [1 1 1 1 1 1 1 1 1 1 1 1 1 1 1 1]\n",
            " [1 1 1 1 1 1 1 1 1 1 1 1 1 1 1 1]\n",
            " [1 1 1 1 1 1 1 1 1 1 1 1 1 1 1 1]\n",
            " [1 1 1 1 1 1 1 1 1 1 1 1 1 1 1 1]\n",
            " [1 1 1 1 1 1 1 1 1 1 1 1 1 1 1 1]\n",
            " [1 1 1 1 1 1 1 1 1 1 1 1 1 1 1 1]\n",
            " [1 1 1 1 1 1 1 1 1 1 1 1 1 1 1 1]\n",
            " [1 1 1 1 1 1 1 1 1 1 1 1 1 1 1 1]\n",
            " [1 1 1 1 1 1 1 1 1 1 1 1 1 1 1 1]\n",
            " [1 1 1 1 1 1 1 1 1 1 1 1 1 1 1 1]\n",
            " [1 1 1 1 1 1 1 1 1 1 1 1 1 1 1 1]\n",
            " [1 1 1 1 1 1 1 1 1 1 1 1 1 1 1 1]]\n",
            "[16 16 16 16 16 16 16 16 16 16 16 16 16 16 16 16 16 16 16 16 16 16 16 16]\n"
          ]
        }
      ],
      "source": [
        "num_parameters = 16\n",
        "num_individuals = 24\n",
        "num_generations = 10\n",
        "np.random.seed(20521493)\n",
        "POPOP(num_individuals, num_parameters, num_generations)"
      ]
    },
    {
      "cell_type": "markdown",
      "metadata": {
        "id": "bdHr3piamPoN"
      },
      "source": [
        "# num_parameters = 32"
      ]
    },
    {
      "cell_type": "code",
      "execution_count": 15,
      "metadata": {
        "colab": {
          "base_uri": "https://localhost:8080/"
        },
        "id": "qo3WQA0B8YTY",
        "outputId": "af97ad9e-c545-432d-c8f6-fea82cdf6f54"
      },
      "outputs": [
        {
          "output_type": "stream",
          "name": "stdout",
          "text": [
            "#Gen 0:\n",
            "[15 17 15 21 19 10 15 13 17 15 12 11 19 17 13 21 12 17 13 12 15 18 19 21\n",
            " 14 16 13 14 15 17 15 13]\n",
            "#Final result:\n",
            "[[1 1 1 ... 1 1 1]\n",
            " [1 1 1 ... 1 1 1]\n",
            " [1 1 1 ... 1 1 1]\n",
            " ...\n",
            " [1 1 1 ... 1 1 1]\n",
            " [1 1 1 ... 1 1 1]\n",
            " [1 1 1 ... 1 1 1]]\n",
            "[32 32 32 32 32 32 32 32 32 32 32 32 32 32 32 32 32 32 32 32 32 32 32 32\n",
            " 32 32 32 32 32 32 32 32]\n"
          ]
        }
      ],
      "source": [
        "num_parameters = 32\n",
        "num_individuals = 32\n",
        "num_generations = 15\n",
        "np.random.seed(20521493)\n",
        "POPOP(num_individuals, num_parameters, num_generations)"
      ]
    },
    {
      "cell_type": "markdown",
      "metadata": {
        "id": "phk9CdDgmSi_"
      },
      "source": [
        "# num_parameters = 64"
      ]
    },
    {
      "cell_type": "code",
      "execution_count": 23,
      "metadata": {
        "colab": {
          "base_uri": "https://localhost:8080/"
        },
        "id": "_82j8chRaRAN",
        "outputId": "1458cb72-51d5-4021-e5d2-c8fd3388c63c"
      },
      "outputs": [
        {
          "output_type": "stream",
          "name": "stdout",
          "text": [
            "#Gen 0:\n",
            "[32 36 29 28 32 23 36 34 29 25 33 40 30 27 32 28 37 35 30 30 29 34 32 31\n",
            " 35 35 32 27 29 27 36 29 37 21 30 33 33 42 35 32 32 27 32 29 36 26 32 31]\n",
            "#Final result:\n",
            "[[1 1 1 ... 1 1 1]\n",
            " [1 1 1 ... 1 1 1]\n",
            " [1 1 1 ... 1 1 1]\n",
            " ...\n",
            " [1 1 1 ... 1 1 1]\n",
            " [1 1 1 ... 1 1 1]\n",
            " [1 1 1 ... 1 1 1]]\n",
            "[64 64 64 64 64 64 64 64 64 64 64 64 64 64 64 64 64 64 64 64 64 64 64 64\n",
            " 64 64 64 64 64 64 64 64 64 64 64 64 64 64 64 64 64 64 64 64 64 64 64 64]\n"
          ]
        }
      ],
      "source": [
        "num_parameters = 64\n",
        "num_individuals = 48\n",
        "num_generations = 18\n",
        "np.random.seed(20521493)\n",
        "POPOP(num_individuals, num_parameters, num_generations)"
      ]
    },
    {
      "cell_type": "markdown",
      "metadata": {
        "id": "4IPEpwkxmU2X"
      },
      "source": [
        "# num_parameters = 128"
      ]
    },
    {
      "cell_type": "code",
      "execution_count": 17,
      "metadata": {
        "colab": {
          "base_uri": "https://localhost:8080/"
        },
        "id": "xa8gs5S9alr4",
        "outputId": "7a179847-85fb-4db9-fac2-1bb5cd702efa"
      },
      "outputs": [
        {
          "output_type": "stream",
          "name": "stdout",
          "text": [
            "#Gen 0:\n",
            "[68 57 55 70 54 73 57 60 72 60 63 63 70 59 56 65 58 63 75 67 59 61 62 63\n",
            " 63 63 65 74 70 53 64 66 70 67 71 57 61 64 67 67 70 59 67 55 57 52 67 56\n",
            " 69 66 56 64 66 63 67 67 68 65 66 61 50 75 68 62 71 65 65 58 55 62 58 54\n",
            " 63 72 72 68 59 56 53 69 67 64 60 76 67 60 63 71 74 57 59 70 52 64 55 70\n",
            " 70 53 63 60 65 60 64 62 59 77 59 65 62 59 65 67 68 65 64 54 77 64 62 61\n",
            " 69 62 59 66 57 55 63 68]\n",
            "#Final result:\n",
            "[[1 1 1 ... 1 1 1]\n",
            " [1 1 1 ... 1 1 1]\n",
            " [1 1 1 ... 1 1 1]\n",
            " ...\n",
            " [1 1 1 ... 1 1 1]\n",
            " [1 1 1 ... 1 1 1]\n",
            " [1 1 1 ... 1 1 1]]\n",
            "[128 128 128 128 128 128 128 128 128 128 128 128 128 128 128 128 128 128\n",
            " 128 128 128 128 128 128 128 128 128 128 128 128 128 128 128 128 128 128\n",
            " 128 128 128 128 128 128 128 128 128 128 128 128 128 128 128 128 128 128\n",
            " 128 128 128 128 128 128 128 128 128 128 128 128 128 128 128 128 128 128\n",
            " 128 128 128 128 128 128 128 128 128 128 128 128 128 128 128 128 128 128\n",
            " 128 128 128 128 128 128 128 128 128 128 128 128 128 128 128 128 128 128\n",
            " 128 128 128 128 128 128 128 128 128 128 128 128 128 128 128 128 128 128\n",
            " 128 128]\n"
          ]
        }
      ],
      "source": [
        "num_parameters = 128\n",
        "num_individuals = 128\n",
        "num_generations = 28\n",
        "np.random.seed(20521493)\n",
        "POPOP(num_individuals, num_parameters, num_generations)"
      ]
    },
    {
      "cell_type": "markdown",
      "metadata": {
        "id": "3WYnZzrEl2xE"
      },
      "source": [
        "Nhận xét:"
      ]
    },
    {
      "cell_type": "markdown",
      "metadata": {
        "id": "5UlbmBoAmd1t"
      },
      "source": [
        "# Nhận xét"
      ]
    },
    {
      "cell_type": "markdown",
      "metadata": {
        "id": "14X5GtLomg_s"
      },
      "source": [
        "* Mỗi thông số num_parameters khác nhau em đều cho chạy trên 10 lần để tránh trường hợp Gen 0 được khởi tạo quá tốt dẫn đến lời giải cho những lần chạy khác là không tối ưu.\n",
        "* Thống kê các giá trị thông số : \n",
        "\n",
        "\n",
        "![image.png](data:image/png;base64,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)\n",
        "\n"
      ]
    },
    {
      "cell_type": "markdown",
      "source": [
        "* Khi cài đặt, em thấy rằng thông số num_individuals sẽ có giá trị hầu hết là nhỏ hơn hoặc bằng giá trị num_parameters, trừ trường hợp num_parameters = 64 và num_individuals = 48.\n",
        "* num_generations thường sẽ không thay đổi quá nhiều khi num_paramters tăng lên."
      ],
      "metadata": {
        "id": "F0T8Ni68NTlT"
      }
    }
  ],
  "metadata": {
    "anaconda-cloud": {},
    "colab": {
      "collapsed_sections": [],
      "provenance": [],
      "toc_visible": true
    },
    "kernelspec": {
      "display_name": "Python [Root]",
      "language": "python",
      "name": "Python [Root]"
    },
    "language_info": {
      "codemirror_mode": {
        "name": "ipython",
        "version": 2
      },
      "file_extension": ".py",
      "mimetype": "text/x-python",
      "name": "python",
      "nbconvert_exporter": "python",
      "pygments_lexer": "ipython2",
      "version": "2.7.12"
    }
  },
  "nbformat": 4,
  "nbformat_minor": 0
}